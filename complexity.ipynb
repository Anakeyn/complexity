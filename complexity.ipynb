{
  "metadata": {
    "kernelspec": {
      "language": "python",
      "display_name": "Python 3",
      "name": "python3"
    },
    "language_info": {
      "pygments_lexer": "ipython3",
      "nbconvert_exporter": "python",
      "version": "3.6.4",
      "file_extension": ".py",
      "codemirror_mode": {
        "name": "ipython",
        "version": 3
      },
      "name": "python",
      "mimetype": "text/x-python"
    },
    "colab": {
      "provenance": [],
      "include_colab_link": true
    }
  },
  "nbformat_minor": 0,
  "nbformat": 4,
  "cells": [
    {
      "cell_type": "markdown",
      "metadata": {
        "id": "view-in-github",
        "colab_type": "text"
      },
      "source": [
        "<a href=\"https://colab.research.google.com/github/Anakeyn/complexity/blob/main/complexity.ipynb\" target=\"_parent\"><img src=\"https://colab.research.google.com/assets/colab-badge.svg\" alt=\"Open In Colab\"/></a>"
      ]
    },
    {
      "cell_type": "markdown",
      "source": [
        "# Complexity analysis - Practical session \n",
        "\n",
        "The first part of this notebook is prepared in order to vizualize the growth of some functions used frequently in different algorithms. Then two exercices are given to manipulate the notions of time and space complexity. Some questions require that you elaborate through texts, use markdown cells in these cases.\n",
        "\n",
        "# Terminologies:\n",
        "\n",
        "Consider two functions  f(n)  and  g(n)  that are defined for all positive integers and take on non-negative real values. We say that f grows slower than g and write f < g as n grows.\n",
        "Now this can be classified into two groups:\n",
        "    (i) if f < g then   f=o(g)  (small-o).\n",
        "    (ii) if f <=g then f=O(g)  (Big - O).\n",
        "    In this notebook let us keep our interest on Big- O notation only.\n",
        "Now a common misconception arises that 5n^2=O(n^3) is not true. But it is absolutely valid. Many say that 5n^2 = O(n^2) which is correct. But both of them are 100% correct. Like 2<3 doesn't mean that 2 is not less than 4. If 2<3 then 2<4 and like that 5n^2<=n^2 also means 5n^2<n^3. Thus both of them are correct."
      ],
      "metadata": {
        "id": "4KbLdT5IrDMl"
      }
    },
    {
      "cell_type": "code",
      "source": [
        "%matplotlib inline\n",
        "import matplotlib.pyplot as plt\n",
        "import numpy as np"
      ],
      "metadata": {
        "execution": {
          "iopub.status.busy": "2023-02-10T11:03:59.485838Z",
          "iopub.execute_input": "2023-02-10T11:03:59.486530Z",
          "iopub.status.idle": "2023-02-10T11:03:59.519074Z",
          "shell.execute_reply.started": "2023-02-10T11:03:59.486418Z",
          "shell.execute_reply": "2023-02-10T11:03:59.517582Z"
        },
        "trusted": true,
        "id": "tRVFa_FMrDMu"
      },
      "execution_count": null,
      "outputs": []
    },
    {
      "cell_type": "code",
      "source": [
        "n = np.linspace(1, 100)\n",
        "plt.plot(n, 7 * n * n + 6 * n + 5)    # i.e 7n^2+6n+5 for the values of n from 0 to 100. \n",
        "plt.show()"
      ],
      "metadata": {
        "execution": {
          "iopub.status.busy": "2023-02-10T11:04:33.412996Z",
          "iopub.execute_input": "2023-02-10T11:04:33.413487Z",
          "iopub.status.idle": "2023-02-10T11:04:33.717949Z",
          "shell.execute_reply.started": "2023-02-10T11:04:33.413449Z",
          "shell.execute_reply": "2023-02-10T11:04:33.716663Z"
        },
        "trusted": true,
        "colab": {
          "base_uri": "https://localhost:8080/",
          "height": 265
        },
        "id": "q8eH4jHSrDMy",
        "outputId": "9d077d79-1f9e-480d-fbf2-65eba06b016b"
      },
      "execution_count": null,
      "outputs": [
        {
          "output_type": "display_data",
          "data": {
            "text/plain": [
              "<Figure size 432x288 with 1 Axes>"
            ],
            "image/png": "[encoded data removed]"
          },
          "metadata": {
            "needs_background": "light"
          }
        }
      ]
    },
    {
      "cell_type": "markdown",
      "source": [
        "# Let us visualize the difference between a linear function and a quadratic function as n grows."
      ],
      "metadata": {
        "id": "Y8n0CM-8rDM0"
      }
    },
    {
      "cell_type": "code",
      "source": [
        "n = np.linspace(1, 100)\n",
        "plt.plot(n, 7 * n * n + 6 * n + 5, label=\"7n^2+6n+5\")\n",
        "plt.plot(n, 7 * n, label=\"7n\")\n",
        "plt.legend(loc='upper left')\n",
        "plt.show()"
      ],
      "metadata": {
        "execution": {
          "iopub.status.busy": "2023-02-10T11:04:50.940898Z",
          "iopub.execute_input": "2023-02-10T11:04:50.941391Z",
          "iopub.status.idle": "2023-02-10T11:04:51.199071Z",
          "shell.execute_reply.started": "2023-02-10T11:04:50.941349Z",
          "shell.execute_reply": "2023-02-10T11:04:51.196955Z"
        },
        "trusted": true,
        "colab": {
          "base_uri": "https://localhost:8080/",
          "height": 265
        },
        "id": "WqJ7G5aIrDM1",
        "outputId": "5302ac08-7499-4a71-ee82-da75e89e34c7"
      },
      "execution_count": null,
      "outputs": [
        {
          "output_type": "display_data",
          "data": {
            "text/plain": [
              "<Figure size 432x288 with 1 Axes>"
            ],
            "image/png": "[encoded data removed]"
          },
          "metadata": {
            "needs_background": "light"
          }
        }
      ]
    },
    {
      "cell_type": "markdown",
      "source": [
        "# Some Rules\n",
        "\n",
        "    (i) Multiplicative constants can be omitted:  c.f <= f. Like 5n^2<=n^2\n",
        "    (ii) Out of two functions the one with higher degree grows faster.\n",
        "    (iii) Any polynomial grows slower than any exponential. n^a < b^n (a>=0, b>1)\n",
        "    (iv) Smaller terms can be ignored. For eg., n^2 + n <= n^2"
      ],
      "metadata": {
        "id": "9MzwY5GxrDM2"
      }
    },
    {
      "cell_type": "markdown",
      "source": [
        "Enough of this theoritical concepts. Let us visualize some of them...\n",
        "\n",
        "# Smaller terms can be ignored"
      ],
      "metadata": {
        "id": "oI-8pR3YrDM3"
      }
    },
    {
      "cell_type": "code",
      "source": [
        "plot1 = plt.figure(1)\n",
        "n = np.linspace(0,50)\n",
        "plt.plot(n, 7 * n**2+6*n+5, label=\"7n^2+6n+5\")\n",
        "plt.plot(n, 7 * n**2, label=\"7n^2\")\n",
        "plt.legend(loc='upper left')\n",
        "plt.title('For large values of n')\n",
        "plt.show()\n",
        "\n",
        "plot2=plt.figure(2)\n",
        "n = np.linspace(0,5)\n",
        "plt.plot(n, 7 * n**2+6*n+5, label=\"7n^2+6n+5\")\n",
        "plt.plot(n, 7 * n**2, label=\"7n^2\")\n",
        "plt.legend(loc='upper left')\n",
        "plt.title('For smaller values of n')\n",
        "plt.show()"
      ],
      "metadata": {
        "execution": {
          "iopub.status.busy": "2023-02-10T11:05:15.874401Z",
          "iopub.execute_input": "2023-02-10T11:05:15.876115Z",
          "iopub.status.idle": "2023-02-10T11:05:16.346852Z",
          "shell.execute_reply.started": "2023-02-10T11:05:15.876048Z",
          "shell.execute_reply": "2023-02-10T11:05:16.344873Z"
        },
        "trusted": true,
        "id": "wiVCGKtDrDM4",
        "colab": {
          "base_uri": "https://localhost:8080/",
          "height": 545
        },
        "outputId": "fb7dcebe-eb90-47c3-b709-ddb58c044ce2"
      },
      "execution_count": null,
      "outputs": [
        {
          "output_type": "display_data",
          "data": {
            "text/plain": [
              "<Figure size 432x288 with 1 Axes>"
            ],
            "image/png": "[encoded data removed]"
          },
          "metadata": {
            "needs_background": "light"
          }
        },
        {
          "output_type": "display_data",
          "data": {
            "text/plain": [
              "<Figure size 432x288 with 1 Axes>"
            ],
            "image/png": "[encoded data removed]"
          },
          "metadata": {
            "needs_background": "light"
          }
        }
      ]
    },
    {
      "cell_type": "markdown",
      "source": [
        "Thus we see that for smaller n, the difference is visible but not that much. However for large values the difference nearly vanishes.\n",
        "\n",
        "Another way of visualizing it is by plotting -\n",
        "\n",
        "# (7n^2 + 6n + 5) / 7n^2\n",
        "\n",
        "Observe how the graph tends to 0 as n increases."
      ],
      "metadata": {
        "id": "z_4PLk_4rDM5"
      }
    },
    {
      "cell_type": "code",
      "source": [
        "n = np.linspace(1, 100)\n",
        "plt.plot(n, (7*n**2+6*n+5)/(7*n**2))\n",
        "plt.show()\n"
      ],
      "metadata": {
        "execution": {
          "iopub.status.busy": "2023-02-10T11:05:51.961343Z",
          "iopub.execute_input": "2023-02-10T11:05:51.961895Z",
          "iopub.status.idle": "2023-02-10T11:05:52.172591Z",
          "shell.execute_reply.started": "2023-02-10T11:05:51.961856Z",
          "shell.execute_reply": "2023-02-10T11:05:52.171117Z"
        },
        "trusted": true,
        "colab": {
          "base_uri": "https://localhost:8080/",
          "height": 265
        },
        "id": "h5Z3HMIErDM7",
        "outputId": "dcf515f6-b330-4960-c22b-c94216c23255"
      },
      "execution_count": null,
      "outputs": [
        {
          "output_type": "display_data",
          "data": {
            "text/plain": [
              "<Figure size 432x288 with 1 Axes>"
            ],
            "image/png": "[encoded data removed]"
          },
          "metadata": {
            "needs_background": "light"
          }
        }
      ]
    },
    {
      "cell_type": "markdown",
      "source": [
        "# Multiplicative constants can be ignored\n",
        "\n",
        "Trying to establish the fact in the same way."
      ],
      "metadata": {
        "id": "gNd1tM7ErDM8"
      }
    },
    {
      "cell_type": "code",
      "source": [
        "n = np.linspace(1, 500)\n",
        "plt.plot(n, (7*n**2+6*n+5)/(n**2))\n",
        "plt.show()"
      ],
      "metadata": {
        "execution": {
          "iopub.status.busy": "2023-02-10T11:06:01.018189Z",
          "iopub.execute_input": "2023-02-10T11:06:01.018679Z",
          "iopub.status.idle": "2023-02-10T11:06:01.342180Z",
          "shell.execute_reply.started": "2023-02-10T11:06:01.018642Z",
          "shell.execute_reply": "2023-02-10T11:06:01.341149Z"
        },
        "trusted": true,
        "colab": {
          "base_uri": "https://localhost:8080/",
          "height": 265
        },
        "id": "i7cm5riJrDM9",
        "outputId": "32076528-a149-49db-93e7-14976347a17c"
      },
      "execution_count": null,
      "outputs": [
        {
          "output_type": "display_data",
          "data": {
            "text/plain": [
              "<Figure size 432x288 with 1 Axes>"
            ],
            "image/png": "[encoded data removed]"
          },
          "metadata": {
            "needs_background": "light"
          }
        }
      ]
    },
    {
      "cell_type": "markdown",
      "source": [
        "# Out of polynomials the one with highest degree grows the fastest;\n",
        "\n",
        "Let us realize this by comparing some of the common time complexities."
      ],
      "metadata": {
        "id": "mCh44rBSrDM_"
      }
    },
    {
      "cell_type": "code",
      "source": [
        "plot1 = plt.figure(1)\n",
        "n = np.linspace(1, 3)\n",
        "plt.plot(n, n, label=\"n\")\n",
        "plt.plot(n, n * n, label=\"n^2\")\n",
        "plt.plot(n, n * n * n, label=\"n^3\")\n",
        "plt.legend(loc='upper left')\n",
        "plt.title('For smaller n')\n",
        "plt.show()\n",
        "\n",
        "plot2 = plt.figure(2)\n",
        "n = np.linspace(1, 50)\n",
        "plt.plot(n, n, label=\"n\")\n",
        "plt.plot(n, n * n, label=\"n^2\")\n",
        "plt.plot(n, n * n * n, label=\"n^3\")\n",
        "plt.legend(loc='upper left')\n",
        "plt.title('For larger n')\n",
        "plt.show()\n",
        "\n",
        "plot3 = plt.figure(3)\n",
        "n = np.linspace(1, 1000)\n",
        "plt.plot(n, n, label=\"n\")\n",
        "plt.plot(n, n * n, label=\"n^2\")\n",
        "plt.plot(n, n * n * n, label=\"n^3\")\n",
        "plt.legend(loc='upper left')\n",
        "plt.title('For very large n')\n",
        "plt.show()"
      ],
      "metadata": {
        "execution": {
          "iopub.status.busy": "2023-02-10T11:06:16.173472Z",
          "iopub.execute_input": "2023-02-10T11:06:16.173994Z",
          "iopub.status.idle": "2023-02-10T11:06:16.865789Z",
          "shell.execute_reply.started": "2023-02-10T11:06:16.173953Z",
          "shell.execute_reply": "2023-02-10T11:06:16.864462Z"
        },
        "trusted": true,
        "colab": {
          "base_uri": "https://localhost:8080/",
          "height": 809
        },
        "id": "raKlw_ZyrDM_",
        "outputId": "0ae3e7bb-ccc1-4d2f-81ad-19ad55ff1bd2"
      },
      "execution_count": null,
      "outputs": [
        {
          "output_type": "display_data",
          "data": {
            "text/plain": [
              "<Figure size 432x288 with 1 Axes>"
            ],
            "image/png": "[encoded data removed]"
          },
          "metadata": {
            "needs_background": "light"
          }
        },
        {
          "output_type": "display_data",
          "data": {
            "text/plain": [
              "<Figure size 432x288 with 1 Axes>"
            ],
            "image/png": "[encoded data removed]"
          },
          "metadata": {
            "needs_background": "light"
          }
        },
        {
          "output_type": "display_data",
          "data": {
            "text/plain": [
              "<Figure size 432x288 with 1 Axes>"
            ],
            "image/png": "[encoded data removed]"
          },
          "metadata": {
            "needs_background": "light"
          }
        }
      ]
    },
    {
      "cell_type": "markdown",
      "source": [
        "# Any polynomial grows slower than exponentials\n",
        "\n",
        "This may be highly misleading. We will find that for comparatively smaller n, the polynomial grows faster. But once we increase n, we will find that the exponentials are way faster. Let us visualize that... \n",
        "\n",
        "# Observe that for very large n, how n^100 falls behind 2^n !"
      ],
      "metadata": {
        "id": "TXtzD5TUrDNA"
      }
    },
    {
      "cell_type": "code",
      "source": [
        "plot1 = plt.figure(1)\n",
        "n = np.linspace(1, 5)\n",
        "plt.plot(n, n ** 4, label=\"n^4\")\n",
        "plt.plot(n, 2 ** n, label=\"2^n\")\n",
        "plt.legend(loc='upper left')\n",
        "plt.title('For smaller n')\n",
        "plt.show()\n",
        "\n",
        "plot2 = plt.figure(2)\n",
        "n = np.linspace(1, 20)\n",
        "plt.plot(n, n ** 4, label=\"n^4\")\n",
        "plt.plot(n, 2 ** n, label=\"2^n\")\n",
        "plt.legend(loc='upper left')\n",
        "plt.title('For relatively larger n')\n",
        "plt.show()\n",
        "\n",
        "plot3 = plt.figure(3)\n",
        "n = np.linspace(1, 1000)\n",
        "plt.plot(n, n ** 100, label=\"n^100\")\n",
        "plt.plot(n, 2 ** n, label=\"2^n\")\n",
        "plt.legend(loc='upper left')\n",
        "plt.title('For larger n')\n",
        "plt.show()\n",
        "\n"
      ],
      "metadata": {
        "id": "UO0Vb9UwrDNB",
        "colab": {
          "base_uri": "https://localhost:8080/",
          "height": 809
        },
        "outputId": "db93fa40-b020-429c-a8c6-2556a8c4a48c"
      },
      "execution_count": null,
      "outputs": [
        {
          "output_type": "display_data",
          "data": {
            "text/plain": [
              "<Figure size 432x288 with 1 Axes>"
            ],
            "image/png": "[encoded data removed]"
          },
          "metadata": {
            "needs_background": "light"
          }
        },
        {
          "output_type": "display_data",
          "data": {
            "text/plain": [
              "<Figure size 432x288 with 1 Axes>"
            ],
            "image/png": "[encoded data removed]"
          },
          "metadata": {
            "needs_background": "light"
          }
        },
        {
          "output_type": "display_data",
          "data": {
            "text/plain": [
              "<Figure size 432x288 with 1 Axes>"
            ],
            "image/png": "[encoded data removed]"
          },
          "metadata": {
            "needs_background": "light"
          }
        }
      ]
    },
    {
      "cell_type": "markdown",
      "source": [
        "# Any polylogarithm grows slower than any polynomial"
      ],
      "metadata": {
        "id": "V-JSkWNbrDNC"
      }
    },
    {
      "cell_type": "code",
      "source": [
        "n = np.linspace(1, 20)\n",
        "plt.plot(n, n, label=\"n\")\n",
        "plt.plot(n, np.log(n), label=\"log n\")\n",
        "plt.legend(loc='upper left')\n",
        "plt.show()"
      ],
      "metadata": {
        "execution": {
          "iopub.status.busy": "2023-02-10T11:07:40.554225Z",
          "iopub.execute_input": "2023-02-10T11:07:40.554756Z",
          "iopub.status.idle": "2023-02-10T11:07:40.800337Z",
          "shell.execute_reply.started": "2023-02-10T11:07:40.554720Z",
          "shell.execute_reply": "2023-02-10T11:07:40.798875Z"
        },
        "trusted": true,
        "colab": {
          "base_uri": "https://localhost:8080/",
          "height": 265
        },
        "id": "oloHczGOrDNE",
        "outputId": "c4e295bf-d709-4e9c-8729-6f6191526b1b"
      },
      "execution_count": null,
      "outputs": [
        {
          "output_type": "display_data",
          "data": {
            "text/plain": [
              "<Figure size 432x288 with 1 Axes>"
            ],
            "image/png": "[encoded data removed]"
          },
          "metadata": {
            "needs_background": "light"
          }
        }
      ]
    },
    {
      "cell_type": "markdown",
      "source": [
        "# How about (logn)^3 vs n^0.5 ? "
      ],
      "metadata": {
        "id": "0wrBDKIrrDNF"
      }
    },
    {
      "cell_type": "code",
      "source": [
        "n = np.linspace(1, 50)\n",
        "plt.plot(n, n ** .5, label=\"n^0.5\")\n",
        "plt.plot(n, np.log(n) ** 3, label=\"(log n)^3\")\n",
        "plt.legend(loc='upper left')\n",
        "plt.title('Small n')\n",
        "plt.show()"
      ],
      "metadata": {
        "colab": {
          "base_uri": "https://localhost:8080/",
          "height": 281
        },
        "id": "2tVI4XHPrDNF",
        "outputId": "f94df1a3-10a0-4521-ce75-f547360591fb"
      },
      "execution_count": null,
      "outputs": [
        {
          "output_type": "display_data",
          "data": {
            "text/plain": [
              "<Figure size 432x288 with 1 Axes>"
            ],
            "image/png": "[encoded data removed]"
          },
          "metadata": {
            "needs_background": "light"
          }
        }
      ]
    },
    {
      "cell_type": "markdown",
      "source": [
        "# Here the polylogarithmic function grows faster ! Lets try with large input..."
      ],
      "metadata": {
        "id": "jm5VFDtUrDNG"
      }
    },
    {
      "cell_type": "code",
      "source": [
        "n = np.linspace(1, 10**7)\n",
        "plt.plot(n, n ** .5, label=\"n^0.5\")\n",
        "plt.plot(n, np.log(n) ** 3, label=\"(log n)^3\")\n",
        "plt.legend(loc='upper left')\n",
        "plt.title('Large n')\n",
        "plt.show()"
      ],
      "metadata": {
        "colab": {
          "base_uri": "https://localhost:8080/",
          "height": 294
        },
        "id": "BT4aGO2GrDNG",
        "outputId": "70b99942-cbcf-4470-8698-2d5ceba4a8a0"
      },
      "execution_count": null,
      "outputs": [
        {
          "output_type": "display_data",
          "data": {
            "text/plain": [
              "<Figure size 432x288 with 1 Axes>"
            ],
            "image/png": "[encoded data removed]"
          },
          "metadata": {
            "needs_background": "light"
          }
        }
      ]
    },
    {
      "cell_type": "markdown",
      "source": [
        "# Oh ! Still polylogarithmic one is faster ! Let's make n even larger. \n",
        "\n",
        "There must be a trade-off right?"
      ],
      "metadata": {
        "id": "k8eV7QPnrDNH"
      }
    },
    {
      "cell_type": "code",
      "source": [
        "n = np.linspace(1, 10**8)\n",
        "plt.plot(n, n ** .5, label=\"n^0.5\")\n",
        "plt.plot(n, np.log(n) ** 3, label=\"(log n)^3\")\n",
        "plt.legend(loc='upper left')\n",
        "plt.title('Even Larger n')\n",
        "plt.show()"
      ],
      "metadata": {
        "execution": {
          "iopub.status.busy": "2023-02-10T11:08:40.561191Z",
          "iopub.execute_input": "2023-02-10T11:08:40.562939Z",
          "iopub.status.idle": "2023-02-10T11:08:40.808088Z",
          "shell.execute_reply.started": "2023-02-10T11:08:40.562879Z",
          "shell.execute_reply": "2023-02-10T11:08:40.806671Z"
        },
        "trusted": true,
        "colab": {
          "base_uri": "https://localhost:8080/",
          "height": 294
        },
        "id": "m-HdFKC7rDNH",
        "outputId": "6147cf4e-7fbf-46bb-a8b8-ab923ccc4493"
      },
      "execution_count": null,
      "outputs": [
        {
          "output_type": "display_data",
          "data": {
            "text/plain": [
              "<Figure size 432x288 with 1 Axes>"
            ],
            "image/png": "[encoded data removed]"
          },
          "metadata": {
            "needs_background": "light"
          }
        }
      ]
    },
    {
      "cell_type": "markdown",
      "source": [
        "Ah! There! Polylogarithmic is slower!\n"
      ],
      "metadata": {
        "id": "ZRp06l32rDNI"
      }
    },
    {
      "cell_type": "markdown",
      "source": [
        "# Exercices\n"
      ],
      "metadata": {
        "id": "U-NfDLT6rDNI"
      }
    },
    {
      "cell_type": "markdown",
      "source": [
        "In python, in order to measure the execution time of a procedure, you can use the following procedure:"
      ],
      "metadata": {
        "id": "KvIy6fOyrDNJ"
      }
    },
    {
      "cell_type": "code",
      "source": [
        "import time\n",
        "tmps1=time.process_time()\n",
        "# your code\n",
        "tmps2=time.process_time()\n",
        "print('Execution time={}'.format((tmps2-tmps1)))"
      ],
      "metadata": {
        "execution": {
          "iopub.status.busy": "2023-02-10T11:27:07.253753Z",
          "iopub.execute_input": "2023-02-10T11:27:07.254531Z",
          "iopub.status.idle": "2023-02-10T11:27:07.262544Z",
          "shell.execute_reply.started": "2023-02-10T11:27:07.254474Z",
          "shell.execute_reply": "2023-02-10T11:27:07.260700Z"
        },
        "trusted": true,
        "colab": {
          "base_uri": "https://localhost:8080/"
        },
        "id": "1g-f0284rDNJ",
        "outputId": "3bbd01ab-8d8b-4e04-e02a-e8213acaa4b2"
      },
      "execution_count": null,
      "outputs": [
        {
          "output_type": "stream",
          "name": "stdout",
          "text": [
            "Execution time=4.496099999951042e-05\n"
          ]
        }
      ]
    },
    {
      "cell_type": "markdown",
      "source": [
        "## Exercice 1: search-algorithms-comparison"
      ],
      "metadata": {
        "id": "OJWuCLi4rDNK"
      }
    },
    {
      "cell_type": "markdown",
      "source": [
        "Compare 3 simple search algorithms and their running time growths in Big-O notations\n",
        "\n",
        "### Problem Statement\n",
        "Suppose you have a **sorted array of integers** and would like to determine if there exists an element x, such that x and -x are both in the array.  For example:\n",
        "\n",
        "* For the array <-4, -2, 1, 3, 5, 7, 9>, the algorithm returns false, because there is no element whose negative is in the array\n",
        "* For the array <-4, -2, 1, 2, 3, 5, 7, 9> then the algorithm returns true, since 2 and -2 are both in the array\n",
        "\n",
        "Code 2 different searching algorithms to see if x's negative is in the array and tested the algorithms' worst-case running times in Big-O notations relative to n, the lenght of the array:\n",
        "* A naive sequential search| O(n^2).\n",
        "* A binary search | O(nlog_2(n))\n",
        "\n",
        "First you need to generate a random vector of sorted integers"
      ],
      "metadata": {
        "id": "PPlEWKKsrDNK"
      }
    },
    {
      "cell_type": "markdown",
      "source": [
        "Then, code the two different approaches (use a recursive approach for binary search)"
      ],
      "metadata": {
        "id": "YENG8w-GrDNL"
      }
    },
    {
      "cell_type": "markdown",
      "source": [
        "Definition des Numpy Arrays proposés en exemple"
      ],
      "metadata": {
        "id": "SUju2F_5rDNL"
      }
    },
    {
      "cell_type": "code",
      "source": [
        "\n",
        "listA = [-4, -2, 1, 3 ,5, 7, 9]\n",
        "listB = [-4, -2, 1, 2, 3 ,5, 7, 9]\n",
        "arrA = np.array(listA)\n",
        "arrB = np.array(listB)"
      ],
      "metadata": {
        "id": "6r5WFFpOrDNL"
      },
      "execution_count": null,
      "outputs": []
    },
    {
      "cell_type": "markdown",
      "source": [
        "Faire une Random array pour arrC"
      ],
      "metadata": {
        "id": "k8eEHjvJSrHg"
      }
    },
    {
      "cell_type": "code",
      "source": [
        "# importing random module\n",
        "import random\n",
        "def randomArray(sizeArray) :\n",
        "    # getting numbers from -20-sizeArray to +20+SizeArray\n",
        "    inputNumbers =range(-20-sizeArray,20+sizeArray)\n",
        "    # printing 4 random numbers from the given range of numbers which are\n",
        "    randomList = []\n",
        "    randomList = random.sample(inputNumbers, sizeArray)\n",
        "    randomList.sort()\n",
        "    print(randomList)\n",
        "    return np.array(randomList)"
      ],
      "metadata": {
        "id": "p9lGnt3JbL6N"
      },
      "execution_count": null,
      "outputs": []
    },
    {
      "cell_type": "code",
      "source": [
        "arrC = randomArray(40)"
      ],
      "metadata": {
        "colab": {
          "base_uri": "https://localhost:8080/"
        },
        "id": "OHQvuUN_VkOt",
        "outputId": "c231bf7a-1aef-493d-8435-af0f183aa507"
      },
      "execution_count": null,
      "outputs": [
        {
          "output_type": "stream",
          "name": "stdout",
          "text": [
            "[-55, -54, -51, -45, -44, -42, -41, -31, -30, -24, -23, -22, -21, -19, -15, -12, -9, -8, -7, -4, -2, 2, 7, 8, 11, 12, 14, 19, 20, 24, 25, 26, 31, 35, 43, 46, 51, 55, 56, 57]\n"
          ]
        }
      ]
    },
    {
      "cell_type": "code",
      "source": [
        "print(arrC)"
      ],
      "metadata": {
        "colab": {
          "base_uri": "https://localhost:8080/"
        },
        "id": "rpdiBEvLVaG6",
        "outputId": "673dd64f-6d9c-4966-8879-52f62c015793"
      },
      "execution_count": null,
      "outputs": [
        {
          "output_type": "stream",
          "name": "stdout",
          "text": [
            "[-55 -54 -51 -45 -44 -42 -41 -31 -30 -24 -23 -22 -21 -19 -15 -12  -9  -8\n",
            "  -7  -4  -2   2   7   8  11  12  14  19  20  24  25  26  31  35  43  46\n",
            "  51  55  56  57]\n"
          ]
        }
      ]
    },
    {
      "cell_type": "markdown",
      "source": [
        "Recherche Naive Sequentiel"
      ],
      "metadata": {
        "id": "_ifZK9ZhrDNM"
      }
    },
    {
      "cell_type": "code",
      "source": [
        "#Recherche Naive N^2\n",
        "def NaiveSeqSearch(myArray) :\n",
        "    for i in range(0,len(myArray)) :\n",
        "        for j in range(0,len(myArray)) :\n",
        "            if myArray[i]==-myArray[j] :\n",
        "                return True;\n",
        "    return False       \n",
        "    "
      ],
      "metadata": {
        "execution": {
          "iopub.status.busy": "2023-02-10T11:25:02.088251Z",
          "iopub.execute_input": "2023-02-10T11:25:02.088725Z",
          "iopub.status.idle": "2023-02-10T11:25:02.100452Z",
          "shell.execute_reply.started": "2023-02-10T11:25:02.088688Z",
          "shell.execute_reply": "2023-02-10T11:25:02.099028Z"
        },
        "trusted": true,
        "id": "kfcFpjZSrDNN"
      },
      "execution_count": null,
      "outputs": []
    },
    {
      "cell_type": "code",
      "source": [
        "#Avec  le premier Array\n",
        "tmps1=time.process_time()\n",
        "# your code\n",
        "myResult = NaiveSeqSearch(arrA)  \n",
        "tmps2=time.process_time()\n"
      ],
      "metadata": {
        "execution": {
          "iopub.status.busy": "2023-02-10T11:28:01.479767Z",
          "iopub.execute_input": "2023-02-10T11:28:01.480230Z",
          "iopub.status.idle": "2023-02-10T11:28:01.487053Z",
          "shell.execute_reply.started": "2023-02-10T11:28:01.480194Z",
          "shell.execute_reply": "2023-02-10T11:28:01.485168Z"
        },
        "trusted": true,
        "id": "pjQPlyykrDNP"
      },
      "execution_count": null,
      "outputs": []
    },
    {
      "cell_type": "code",
      "source": [
        "print('myResult', myResult)"
      ],
      "metadata": {
        "colab": {
          "base_uri": "https://localhost:8080/"
        },
        "id": "iRcythmtr3BG",
        "outputId": "03192a69-d71d-4ac7-abc6-0e690fcd207b"
      },
      "execution_count": null,
      "outputs": [
        {
          "output_type": "stream",
          "name": "stdout",
          "text": [
            "myResult False\n"
          ]
        }
      ]
    },
    {
      "cell_type": "code",
      "source": [
        "print('Execution time={}'.format((tmps2-tmps1)))"
      ],
      "metadata": {
        "execution": {
          "iopub.status.busy": "2023-02-10T11:28:05.137744Z",
          "iopub.execute_input": "2023-02-10T11:28:05.138144Z",
          "iopub.status.idle": "2023-02-10T11:28:05.146231Z",
          "shell.execute_reply.started": "2023-02-10T11:28:05.138113Z",
          "shell.execute_reply": "2023-02-10T11:28:05.144579Z"
        },
        "trusted": true,
        "colab": {
          "base_uri": "https://localhost:8080/"
        },
        "id": "IisHTwLsrDNR",
        "outputId": "8ad19dcd-4463-4e70-8376-ad54de18d36d"
      },
      "execution_count": null,
      "outputs": [
        {
          "output_type": "stream",
          "name": "stdout",
          "text": [
            "Execution time=0.00016887900000028822\n"
          ]
        }
      ]
    },
    {
      "cell_type": "code",
      "source": [
        "#Avec  le second  Array\n",
        "tmps1=time.process_time()\n",
        "# your code\n",
        "myResult = NaiveSeqSearch(arrB)  \n",
        "tmps2=time.process_time()\n"
      ],
      "metadata": {
        "execution": {
          "iopub.status.busy": "2023-02-10T11:28:10.177687Z",
          "iopub.execute_input": "2023-02-10T11:28:10.178104Z",
          "iopub.status.idle": "2023-02-10T11:28:10.184357Z",
          "shell.execute_reply.started": "2023-02-10T11:28:10.178070Z",
          "shell.execute_reply": "2023-02-10T11:28:10.183326Z"
        },
        "trusted": true,
        "id": "B9NDhhAlrDNR"
      },
      "execution_count": null,
      "outputs": []
    },
    {
      "cell_type": "code",
      "source": [
        "print('myResult', myResult)"
      ],
      "metadata": {
        "colab": {
          "base_uri": "https://localhost:8080/"
        },
        "id": "gB6eR-BrsFbZ",
        "outputId": "1eee2bac-c483-4ce6-f7b5-6152476f09b0"
      },
      "execution_count": null,
      "outputs": [
        {
          "output_type": "stream",
          "name": "stdout",
          "text": [
            "myResult True\n"
          ]
        }
      ]
    },
    {
      "cell_type": "code",
      "source": [
        "print('Execution time={}'.format((tmps2-tmps1)))"
      ],
      "metadata": {
        "execution": {
          "iopub.status.busy": "2023-02-10T11:27:35.030465Z",
          "iopub.execute_input": "2023-02-10T11:27:35.030977Z",
          "iopub.status.idle": "2023-02-10T11:27:35.038941Z",
          "shell.execute_reply.started": "2023-02-10T11:27:35.030939Z",
          "shell.execute_reply": "2023-02-10T11:27:35.037279Z"
        },
        "trusted": true,
        "colab": {
          "base_uri": "https://localhost:8080/"
        },
        "id": "MzS2qgh0rDNS",
        "outputId": "814cd54a-e2c8-4eb9-cb88-f4cd0c5c90c3"
      },
      "execution_count": null,
      "outputs": [
        {
          "output_type": "stream",
          "name": "stdout",
          "text": [
            "Execution time=0.00010006000000117865\n"
          ]
        }
      ]
    },
    {
      "cell_type": "markdown",
      "source": [
        "Avec le random Array"
      ],
      "metadata": {
        "id": "vFGsYbjgVvqv"
      }
    },
    {
      "cell_type": "code",
      "source": [
        "arrC = randomArray(20)"
      ],
      "metadata": {
        "colab": {
          "base_uri": "https://localhost:8080/"
        },
        "id": "A6JbMUmxVyhM",
        "outputId": "e7519d49-369f-4791-d168-b0c9d84b29be"
      },
      "execution_count": null,
      "outputs": [
        {
          "output_type": "stream",
          "name": "stdout",
          "text": [
            "[-28, -25, -22, -19, -14, -13, -1, 0, 6, 12, 14, 15, 23, 24, 27, 28, 32, 33, 34, 39]\n"
          ]
        }
      ]
    },
    {
      "cell_type": "code",
      "source": [
        "#Avec  le random  Array\n",
        "tmps1=time.process_time()\n",
        "# your code\n",
        "myResult = NaiveSeqSearch(arrC)  \n",
        "tmps2=time.process_time()"
      ],
      "metadata": {
        "id": "xZeIX8FvV5XL"
      },
      "execution_count": null,
      "outputs": []
    },
    {
      "cell_type": "code",
      "source": [
        "print('myResult', myResult)"
      ],
      "metadata": {
        "colab": {
          "base_uri": "https://localhost:8080/"
        },
        "id": "ekMJ3YZ3WA-j",
        "outputId": "e070abda-dfe1-4490-b8c8-fb0ed3b91ce4"
      },
      "execution_count": null,
      "outputs": [
        {
          "output_type": "stream",
          "name": "stdout",
          "text": [
            "myResult True\n"
          ]
        }
      ]
    },
    {
      "cell_type": "code",
      "source": [
        "print('Execution time={}'.format((tmps2-tmps1)))"
      ],
      "metadata": {
        "colab": {
          "base_uri": "https://localhost:8080/"
        },
        "id": "saEWbnj-WC-_",
        "outputId": "0abdd9fd-5c16-42fe-a023-4d55f46769ff"
      },
      "execution_count": null,
      "outputs": [
        {
          "output_type": "stream",
          "name": "stdout",
          "text": [
            "Execution time=0.00014318300000049078\n"
          ]
        }
      ]
    },
    {
      "cell_type": "markdown",
      "source": [
        "Recherche dichotomique"
      ],
      "metadata": {
        "id": "HaGcBO1jrDNV"
      }
    },
    {
      "cell_type": "code",
      "source": [
        "def SampleBinarySearch(a) :\n",
        "  print(\"a[0]\", a[0])\n",
        "  x = a[0]\n",
        "  if x < 0 :\n",
        "    if -x in a : \n",
        "      print(\"return True\")\n",
        "      return True\n",
        "    else :\n",
        "      if len(a) > 2 :\n",
        "        print(\"a[1:]\", a[1:])\n",
        "        if SampleBinarySearch(a[1:]) :\n",
        "            print(\"return True\")\n",
        "            return True\n",
        "        else :\n",
        "          print(\"return False\")\n",
        "          return False\n",
        "      else :\n",
        "        print(\"return False\")\n",
        "        return False\n",
        "  else :\n",
        "    print(\"return False\")\n",
        "    return False\n"
      ],
      "metadata": {
        "id": "pAuOSoKh5lwC"
      },
      "execution_count": null,
      "outputs": []
    },
    {
      "cell_type": "code",
      "source": [
        "#Avec  le premier Array\n",
        "tmps1=time.process_time()\n",
        "# your code\n",
        "myResult = SampleBinarySearch(arrA)  \n",
        "tmps2=time.process_time()"
      ],
      "metadata": {
        "execution": {
          "iopub.status.busy": "2023-02-10T11:54:48.025389Z",
          "iopub.execute_input": "2023-02-10T11:54:48.025802Z",
          "iopub.status.idle": "2023-02-10T11:54:48.032477Z",
          "shell.execute_reply.started": "2023-02-10T11:54:48.025768Z",
          "shell.execute_reply": "2023-02-10T11:54:48.031156Z"
        },
        "trusted": true,
        "colab": {
          "base_uri": "https://localhost:8080/"
        },
        "id": "MqK8ujKNrDNZ",
        "outputId": "20936a4b-be1b-4184-dc56-c076f21117f1"
      },
      "execution_count": null,
      "outputs": [
        {
          "output_type": "stream",
          "name": "stdout",
          "text": [
            "a[0] -4\n",
            "a[1:] [-2  1  3  5  7  9]\n",
            "a[0] -2\n",
            "a[1:] [1 3 5 7 9]\n",
            "a[0] 1\n",
            "return False\n",
            "return False\n",
            "return False\n"
          ]
        }
      ]
    },
    {
      "cell_type": "markdown",
      "source": [],
      "metadata": {
        "id": "Jq_8QanurDNa"
      }
    },
    {
      "cell_type": "code",
      "source": [
        "print('myResult', myResult)"
      ],
      "metadata": {
        "colab": {
          "base_uri": "https://localhost:8080/"
        },
        "id": "s4KY3_k8rDNa",
        "outputId": "aa8967de-60dc-4720-d03a-63abbb694c43"
      },
      "execution_count": null,
      "outputs": [
        {
          "output_type": "stream",
          "name": "stdout",
          "text": [
            "myResult False\n"
          ]
        }
      ]
    },
    {
      "cell_type": "markdown",
      "source": [
        "Display the results of an empirical time analysis where you can plot the time wrt. number of elements in the array for **both approaches**"
      ],
      "metadata": {
        "id": "VazN9Pu8rDNa"
      }
    },
    {
      "cell_type": "code",
      "source": [
        "print('Execution time={}'.format((tmps2-tmps1)))"
      ],
      "metadata": {
        "colab": {
          "base_uri": "https://localhost:8080/"
        },
        "id": "8epyYnfmrDNb",
        "outputId": "3caee750-dceb-4956-83d1-f9859e672216"
      },
      "execution_count": null,
      "outputs": [
        {
          "output_type": "stream",
          "name": "stdout",
          "text": [
            "Execution time=0.011831922999999023\n"
          ]
        }
      ]
    },
    {
      "cell_type": "code",
      "source": [
        "#Avec  le second  Array\n",
        "tmps1=time.process_time()\n",
        "# your code\n",
        "myResult = SampleBinarySearch(arrB)  \n",
        "tmps2=time.process_time()"
      ],
      "metadata": {
        "colab": {
          "base_uri": "https://localhost:8080/"
        },
        "id": "50ujf-wqrDNc",
        "outputId": "f82b9b2e-b595-43ee-b6ac-02c9cc8ed7ea"
      },
      "execution_count": null,
      "outputs": [
        {
          "output_type": "stream",
          "name": "stdout",
          "text": [
            "a[0] -4\n",
            "a[1:] [-2  1  2  3  5  7  9]\n",
            "a[0] -2\n",
            "return True\n",
            "return True\n"
          ]
        }
      ]
    },
    {
      "cell_type": "code",
      "source": [
        "print('myResult', myResult)"
      ],
      "metadata": {
        "colab": {
          "base_uri": "https://localhost:8080/"
        },
        "id": "CHOe7KuAsjqH",
        "outputId": "313439b6-4a34-4450-96bf-bf3cecb34c04"
      },
      "execution_count": null,
      "outputs": [
        {
          "output_type": "stream",
          "name": "stdout",
          "text": [
            "myResult True\n"
          ]
        }
      ]
    },
    {
      "cell_type": "code",
      "source": [
        "print('Execution time={}'.format((tmps2-tmps1)))"
      ],
      "metadata": {
        "colab": {
          "base_uri": "https://localhost:8080/"
        },
        "id": "Sndi4dJPsmiV",
        "outputId": "c2c51125-ee9c-41c3-8b98-8fb46be6b8fc"
      },
      "execution_count": null,
      "outputs": [
        {
          "output_type": "stream",
          "name": "stdout",
          "text": [
            "Execution time=0.011831922999999023\n"
          ]
        }
      ]
    },
    {
      "cell_type": "code",
      "source": [
        "#Avec  le random  Array\n",
        "tmps1=time.process_time()\n",
        "# your code\n",
        "myResult = SampleBinarySearch(arrC)  \n",
        "tmps2=time.process_time()"
      ],
      "metadata": {
        "colab": {
          "base_uri": "https://localhost:8080/"
        },
        "id": "ij0k3kzEoKtf",
        "outputId": "4d16c116-e0e0-438b-f65b-f2c2be5c6838"
      },
      "execution_count": null,
      "outputs": [
        {
          "output_type": "stream",
          "name": "stdout",
          "text": [
            "a[0] -28\n",
            "return True\n"
          ]
        }
      ]
    },
    {
      "cell_type": "code",
      "source": [
        "print('myResult', myResult)"
      ],
      "metadata": {
        "colab": {
          "base_uri": "https://localhost:8080/"
        },
        "id": "xSe98ueuoPdD",
        "outputId": "c0c7b3a9-a05a-45c0-ea46-d73124e88aa0"
      },
      "execution_count": null,
      "outputs": [
        {
          "output_type": "stream",
          "name": "stdout",
          "text": [
            "myResult True\n"
          ]
        }
      ]
    },
    {
      "cell_type": "code",
      "source": [
        "print('Execution time={}'.format((tmps2-tmps1)))"
      ],
      "metadata": {
        "colab": {
          "base_uri": "https://localhost:8080/"
        },
        "id": "hL7PDc01oRyv",
        "outputId": "14e416e5-2623-402a-9a9c-1248111c2eb6"
      },
      "execution_count": null,
      "outputs": [
        {
          "output_type": "stream",
          "name": "stdout",
          "text": [
            "Execution time=0.003194698999999801\n"
          ]
        }
      ]
    },
    {
      "cell_type": "markdown",
      "source": [
        "On peut aussi reprendre la recherche naive de départ et au lieu de faire tourner j à partir de 0 on le fait tourner à partir de i+1  pour voir si cela accelere."
      ],
      "metadata": {
        "id": "B67kvqKGociM"
      }
    },
    {
      "cell_type": "code",
      "source": [
        "def NaiveSeqSearchV2(myArray) :\n",
        "    for i in range(0,len(myArray)) :\n",
        "        for j in range(i+1,len(myArray)) :\n",
        "            if myArray[i]==-myArray[j] :\n",
        "                return True;\n",
        "    return False  "
      ],
      "metadata": {
        "id": "LX50_sdHHxuj"
      },
      "execution_count": null,
      "outputs": []
    },
    {
      "cell_type": "code",
      "source": [
        "#Avec  le premier Array\n",
        "tmps1=time.process_time()\n",
        "# your code\n",
        "myResult = NaiveSeqSearchV2(arrA)  \n",
        "tmps2=time.process_time()"
      ],
      "metadata": {
        "id": "2wGUQaUSonxN"
      },
      "execution_count": null,
      "outputs": []
    },
    {
      "cell_type": "code",
      "source": [
        "print('myResult', myResult)"
      ],
      "metadata": {
        "colab": {
          "base_uri": "https://localhost:8080/"
        },
        "id": "EoAaDe82ow3L",
        "outputId": "5cbabb9a-908e-40b9-a8f0-58df980f59e0"
      },
      "execution_count": null,
      "outputs": [
        {
          "output_type": "stream",
          "name": "stdout",
          "text": [
            "myResult False\n"
          ]
        }
      ]
    },
    {
      "cell_type": "code",
      "source": [
        "print('Execution time={}'.format((tmps2-tmps1)))"
      ],
      "metadata": {
        "colab": {
          "base_uri": "https://localhost:8080/"
        },
        "id": "9jKRk0SHozsA",
        "outputId": "ad84af4f-4be7-45dd-af89-a08b3b63da7d"
      },
      "execution_count": null,
      "outputs": [
        {
          "output_type": "stream",
          "name": "stdout",
          "text": [
            "Execution time=0.00010668300000027386\n"
          ]
        }
      ]
    },
    {
      "cell_type": "code",
      "source": [
        "#Avec  le second  Array\n",
        "tmps1=time.process_time()\n",
        "# your code\n",
        "myResult = NaiveSeqSearchV2(arrB)  \n",
        "tmps2=time.process_time()"
      ],
      "metadata": {
        "id": "Ne7KOdLBpSJE"
      },
      "execution_count": null,
      "outputs": []
    },
    {
      "cell_type": "code",
      "source": [
        "print('myResult', myResult)"
      ],
      "metadata": {
        "colab": {
          "base_uri": "https://localhost:8080/"
        },
        "id": "b7PeklxVpYQq",
        "outputId": "f860cb8d-a190-409a-ef86-c74f31063a96"
      },
      "execution_count": null,
      "outputs": [
        {
          "output_type": "stream",
          "name": "stdout",
          "text": [
            "myResult True\n"
          ]
        }
      ]
    },
    {
      "cell_type": "code",
      "source": [
        "print('Execution time={}'.format((tmps2-tmps1)))"
      ],
      "metadata": {
        "colab": {
          "base_uri": "https://localhost:8080/"
        },
        "id": "4WeIdiUspge7",
        "outputId": "20941c6e-7c62-4043-8085-a064c5bd0c31"
      },
      "execution_count": null,
      "outputs": [
        {
          "output_type": "stream",
          "name": "stdout",
          "text": [
            "Execution time=0.0001821549999991845\n"
          ]
        }
      ]
    },
    {
      "cell_type": "code",
      "source": [
        "#Avec  le random  Array\n",
        "tmps1=time.process_time()\n",
        "# your code\n",
        "myResult = NaiveSeqSearchV2(arrC)  \n",
        "tmps2=time.process_time()"
      ],
      "metadata": {
        "id": "AfkCkZebp8LT"
      },
      "execution_count": null,
      "outputs": []
    },
    {
      "cell_type": "code",
      "source": [
        "print('myResult', myResult)"
      ],
      "metadata": {
        "colab": {
          "base_uri": "https://localhost:8080/"
        },
        "id": "u2-TFrM_qBU4",
        "outputId": "db273bd9-119c-4c30-ce5e-88915a2149ec"
      },
      "execution_count": null,
      "outputs": [
        {
          "output_type": "stream",
          "name": "stdout",
          "text": [
            "myResult True\n"
          ]
        }
      ]
    },
    {
      "cell_type": "code",
      "source": [
        "print('Execution time={}'.format((tmps2-tmps1)))"
      ],
      "metadata": {
        "colab": {
          "base_uri": "https://localhost:8080/"
        },
        "id": "D5nZ0rz3qEmC",
        "outputId": "ca746c61-3507-4eed-a497-fd8dfe97203a"
      },
      "execution_count": null,
      "outputs": [
        {
          "output_type": "stream",
          "name": "stdout",
          "text": [
            "Execution time=0.00013363199999893993\n"
          ]
        }
      ]
    },
    {
      "cell_type": "markdown",
      "source": [
        "Is there an O(n) approach to code it ? (hint:  try an index-based search)"
      ],
      "metadata": {
        "id": "rLxEUDjgOM-W"
      }
    },
    {
      "cell_type": "markdown",
      "source": [
        "On vafaire bouger l'index du début et de la fin en même temps"
      ],
      "metadata": {
        "id": "JuO40aP_qSEc"
      }
    },
    {
      "cell_type": "code",
      "source": [
        "def ONApproach(myArray) :\n",
        "    i=0\n",
        "    j = len(myArray) - 1\n",
        "    returnValue = False\n",
        "    while (i < j) :\n",
        "        \n",
        "        print(\"i=\",i)\n",
        "        print(\"j=\",j)\n",
        "        print(\"myArray[i]=\",myArray[i])\n",
        "        print(\"myArray[j]=\",myArray[j])\n",
        "          \n",
        "        if myArray[i]==-myArray[j] :\n",
        "          returnValue = True\n",
        "          break\n",
        "        #Move indexes  \n",
        "        if myArray[i] > -myArray[j] :\n",
        "          j = j - 1 #decrease j\n",
        "        else :\n",
        "          i = i +1 #increase i          \n",
        "    return returnValue"
      ],
      "metadata": {
        "id": "wcwkZJjwqXiL"
      },
      "execution_count": null,
      "outputs": []
    },
    {
      "cell_type": "code",
      "source": [
        "#Avec  le premier Array\n",
        "tmps1=time.process_time()\n",
        "# your code\n",
        "myResult = ONApproach(arrA)  \n",
        "tmps2=time.process_time()"
      ],
      "metadata": {
        "colab": {
          "base_uri": "https://localhost:8080/"
        },
        "id": "I0_yNSGZrZIC",
        "outputId": "b562f2f6-5b53-474e-84a3-a136b8f0b68b"
      },
      "execution_count": null,
      "outputs": [
        {
          "output_type": "stream",
          "name": "stdout",
          "text": [
            "i= 0\n",
            "j= 6\n",
            "myArray[i]= -4\n",
            "myArray[j]= 9\n",
            "i= 0\n",
            "j= 5\n",
            "myArray[i]= -4\n",
            "myArray[j]= 7\n",
            "i= 0\n",
            "j= 4\n",
            "myArray[i]= -4\n",
            "myArray[j]= 5\n",
            "i= 0\n",
            "j= 3\n",
            "myArray[i]= -4\n",
            "myArray[j]= 3\n",
            "i= 1\n",
            "j= 3\n",
            "myArray[i]= -2\n",
            "myArray[j]= 3\n",
            "i= 1\n",
            "j= 2\n",
            "myArray[i]= -2\n",
            "myArray[j]= 1\n"
          ]
        }
      ]
    },
    {
      "cell_type": "code",
      "source": [
        "print('myResult', myResult)"
      ],
      "metadata": {
        "colab": {
          "base_uri": "https://localhost:8080/"
        },
        "id": "26sAWKOerh4G",
        "outputId": "36770c78-3cd8-405c-db1e-6a2707889c81"
      },
      "execution_count": null,
      "outputs": [
        {
          "output_type": "stream",
          "name": "stdout",
          "text": [
            "myResult False\n"
          ]
        }
      ]
    },
    {
      "cell_type": "code",
      "source": [
        "print('Execution time={}'.format((tmps2-tmps1)))"
      ],
      "metadata": {
        "colab": {
          "base_uri": "https://localhost:8080/"
        },
        "id": "-5NrIci5rkIK",
        "outputId": "e0acdf67-e6a9-41f7-f11a-dddb252b44cb"
      },
      "execution_count": null,
      "outputs": [
        {
          "output_type": "stream",
          "name": "stdout",
          "text": [
            "Execution time=0.0029476129999999046\n"
          ]
        }
      ]
    },
    {
      "cell_type": "code",
      "source": [
        "#Avec  le second  Array\n",
        "tmps1=time.process_time()\n",
        "# your code\n",
        "myResult = ONApproach(arrB)  \n",
        "tmps2=time.process_time()"
      ],
      "metadata": {
        "colab": {
          "base_uri": "https://localhost:8080/"
        },
        "id": "pk-2Cp-vskeV",
        "outputId": "1947c37b-454b-4f13-8347-1a5cbf55f86f"
      },
      "execution_count": null,
      "outputs": [
        {
          "output_type": "stream",
          "name": "stdout",
          "text": [
            "i= 0\n",
            "j= 7\n",
            "myArray[i]= -4\n",
            "myArray[j]= 9\n",
            "i= 0\n",
            "j= 6\n",
            "myArray[i]= -4\n",
            "myArray[j]= 7\n",
            "i= 0\n",
            "j= 5\n",
            "myArray[i]= -4\n",
            "myArray[j]= 5\n",
            "i= 0\n",
            "j= 4\n",
            "myArray[i]= -4\n",
            "myArray[j]= 3\n",
            "i= 1\n",
            "j= 4\n",
            "myArray[i]= -2\n",
            "myArray[j]= 3\n",
            "i= 1\n",
            "j= 3\n",
            "myArray[i]= -2\n",
            "myArray[j]= 2\n"
          ]
        }
      ]
    },
    {
      "cell_type": "code",
      "source": [
        "print('myResult', myResult)"
      ],
      "metadata": {
        "colab": {
          "base_uri": "https://localhost:8080/"
        },
        "id": "l73Pr6SGtIHj",
        "outputId": "5c70e155-7812-4689-928e-382c8ed64c04"
      },
      "execution_count": null,
      "outputs": [
        {
          "output_type": "stream",
          "name": "stdout",
          "text": [
            "myResult True\n"
          ]
        }
      ]
    },
    {
      "cell_type": "code",
      "source": [
        "print('Execution time={}'.format((tmps2-tmps1)))"
      ],
      "metadata": {
        "colab": {
          "base_uri": "https://localhost:8080/"
        },
        "id": "96ahmF01tMBi",
        "outputId": "cd99480b-ec7d-4a3e-f3d1-d52112966cb4"
      },
      "execution_count": null,
      "outputs": [
        {
          "output_type": "stream",
          "name": "stdout",
          "text": [
            "Execution time=0.01038654199999911\n"
          ]
        }
      ]
    },
    {
      "cell_type": "code",
      "source": [
        "#Avec  le random  Array\n",
        "tmps1=time.process_time()\n",
        "# your code\n",
        "myResult = ONApproach(arrC)  \n",
        "tmps2=time.process_time()"
      ],
      "metadata": {
        "colab": {
          "base_uri": "https://localhost:8080/"
        },
        "id": "0Cay1nb_vhgS",
        "outputId": "510d14aa-ee9a-4da3-cb9e-3cd563a1b310"
      },
      "execution_count": null,
      "outputs": [
        {
          "output_type": "stream",
          "name": "stdout",
          "text": [
            "i= 0\n",
            "j= 19\n",
            "myArray[i]= -28\n",
            "myArray[j]= 39\n",
            "i= 0\n",
            "j= 18\n",
            "myArray[i]= -28\n",
            "myArray[j]= 34\n",
            "i= 0\n",
            "j= 17\n",
            "myArray[i]= -28\n",
            "myArray[j]= 33\n",
            "i= 0\n",
            "j= 16\n",
            "myArray[i]= -28\n",
            "myArray[j]= 32\n",
            "i= 0\n",
            "j= 15\n",
            "myArray[i]= -28\n",
            "myArray[j]= 28\n"
          ]
        }
      ]
    },
    {
      "cell_type": "code",
      "source": [
        "print('myResult', myResult)"
      ],
      "metadata": {
        "colab": {
          "base_uri": "https://localhost:8080/"
        },
        "id": "xmCTwcedwRLb",
        "outputId": "818a6950-e810-4770-c689-bf75d9560362"
      },
      "execution_count": null,
      "outputs": [
        {
          "output_type": "stream",
          "name": "stdout",
          "text": [
            "myResult True\n"
          ]
        }
      ]
    },
    {
      "cell_type": "code",
      "source": [
        "print('Execution time={}'.format((tmps2-tmps1)))"
      ],
      "metadata": {
        "colab": {
          "base_uri": "https://localhost:8080/"
        },
        "id": "CCVbhreJwUyc",
        "outputId": "839e5323-7649-42a0-fb4c-68d4ee3a165d"
      },
      "execution_count": null,
      "outputs": [
        {
          "output_type": "stream",
          "name": "stdout",
          "text": [
            "Execution time=0.002139762999998851\n"
          ]
        }
      ]
    },
    {
      "cell_type": "markdown",
      "source": [
        "## Exercice2: Sparse matrices (space complexity)\n",
        "We discussed how to represent the so-called 'sparse matrices', i.e. matrices of values containing several null elements. In\n",
        "the simple version of matrix management, this one is represented by a two-dimensional array. It is also possible to represent it by a\n",
        "one-dimensional array, which only contains the elements that are non-zero. In this representation, every elements of the array are tuples (i, j, a) corresponding to the row index, the column index, and the value of a non-zero element.\n",
        "\n",
        "\n",
        "First, the problem under consideration is to calculate the sum of the elements\n",
        "of a matrix. Write and implement an algorithm to calculate this sum,\n",
        "for each of the two representations, and then compare their spatial complexity (memory space, etc.).\n",
        "occupied) and their temporal complexity (number of operations to perform). What can we conclude\n",
        "of this comparison? Show that there is a critical value for the number of non-zero elements\n",
        "from which one method prevails over the other."
      ],
      "metadata": {
        "id": "QV18ifzGrDNc"
      }
    },
    {
      "cell_type": "code",
      "source": [
        "#creer ici une matrice parcimonieuse avec comme paramètres taille et parcimonie en %"
      ],
      "metadata": {
        "id": "oqCOciFJuEFM"
      },
      "execution_count": null,
      "outputs": []
    },
    {
      "cell_type": "code",
      "source": [
        "import numpy as np\n",
        "from scipy.sparse import csr_matrix\n",
        "\n",
        "# create a 2-D representation of the matrix\n",
        "A = np.array([[1, 0, 0, 0, 0, 0], [0, 0, 2, 0, 0, 1],\\\n",
        " [0, 0, 0, 2, 0, 0]])\n",
        "print(\"Dense matrix representation: \\n\", A)\n",
        "\n",
        "# convert to sparse matrix representation \n",
        "S = csr_matrix(A)\n",
        "print(\"Sparse matrix: \\n\",S)\n",
        "\n",
        "# convert back to 2-D representation of the matrix\n",
        "B = S.todense()\n",
        "print(\"Dense matrix: \\n\", B)"
      ],
      "metadata": {
        "colab": {
          "base_uri": "https://localhost:8080/"
        },
        "id": "UEBFSPdqw8pP",
        "outputId": "3e46bc3b-2272-4365-fbb2-0fff4a82e3b4"
      },
      "execution_count": null,
      "outputs": [
        {
          "output_type": "stream",
          "name": "stdout",
          "text": [
            "Dense matrix representation: \n",
            " [[1 0 0 0 0 0]\n",
            " [0 0 2 0 0 1]\n",
            " [0 0 0 2 0 0]]\n",
            "Sparse matrix: \n",
            "   (0, 0)\t1\n",
            "  (1, 2)\t2\n",
            "  (1, 5)\t1\n",
            "  (2, 3)\t2\n",
            "Dense matrix: \n",
            " [[1 0 0 0 0 0]\n",
            " [0 0 2 0 0 1]\n",
            " [0 0 0 2 0 0]]\n"
          ]
        }
      ]
    },
    {
      "cell_type": "code",
      "source": [],
      "metadata": {
        "id": "0zV5TDM3rDNd"
      },
      "execution_count": null,
      "outputs": []
    },
    {
      "cell_type": "markdown",
      "source": [
        "Discuss in a second step the case where one makes the **product** between two matrices, by implementing\n",
        "associated methods. Measure the computation times obtained with these methods for matrix sizes ranging from\n",
        "from $10\\times 10$ to $1000\\times 1000$, which you will randomly initialize based on a percentage of\n",
        "null values. Plot the associated curves.\n",
        "\n"
      ],
      "metadata": {
        "id": "RCDKvs-DrDNe"
      }
    },
    {
      "cell_type": "code",
      "source": [],
      "metadata": {
        "id": "rTFFv7IgrDNg"
      },
      "execution_count": null,
      "outputs": []
    }
  ]
}